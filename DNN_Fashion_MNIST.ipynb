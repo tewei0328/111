{
  "nbformat": 4,
  "nbformat_minor": 0,
  "metadata": {
    "colab": {
      "name": "DNN_Fashion_MNIST.ipynb",
      "provenance": [],
      "include_colab_link": true
    },
    "kernelspec": {
      "name": "python3",
      "display_name": "Python 3"
    }
  },
  "cells": [
    {
      "cell_type": "markdown",
      "metadata": {
        "id": "view-in-github",
        "colab_type": "text"
      },
      "source": [
        "<a href=\"https://colab.research.google.com/github/tewei0328/pbl-book/blob/master/DNN_Fashion_MNIST.ipynb\" target=\"_parent\"><img src=\"https://colab.research.google.com/assets/colab-badge.svg\" alt=\"Open In Colab\"/></a>"
      ]
    },
    {
      "cell_type": "code",
      "metadata": {
        "id": "Hb-jJjWugLQn",
        "colab_type": "code",
        "colab": {
          "base_uri": "https://localhost:8080/",
          "height": 34
        },
        "outputId": "dda1e8e0-6036-452b-cf74-aac16af24119"
      },
      "source": [
        "import numpy as np\n",
        "import pandas as pd\n",
        "from sklearn import preprocessing\n",
        "try:\n",
        "  # %tensorflow_version only exists in Colab.\n",
        "  %tensorflow_version 2.x\n",
        "except Exception:\n",
        "  pass\n",
        "import tensorflow as tf\n",
        "import numpy as np\n",
        "import matplotlib.pyplot as plt\n",
        "from sklearn.model_selection import train_test_split, cross_val_score, KFold\n",
        "from tensorflow import keras\n",
        "from tensorflow.keras import datasets,layers,optimizers,Sequential,metrics"
      ],
      "execution_count": null,
      "outputs": [
        {
          "output_type": "stream",
          "text": [
            "TensorFlow 2.x selected.\n"
          ],
          "name": "stdout"
        }
      ]
    },
    {
      "cell_type": "code",
      "metadata": {
        "id": "sk1WodTwuRt6",
        "colab_type": "code",
        "colab": {}
      },
      "source": [
        "(x,y),(x_test,y_test) = datasets.fashion_mnist.load_data()"
      ],
      "execution_count": null,
      "outputs": []
    },
    {
      "cell_type": "code",
      "metadata": {
        "id": "_QIlBMKIvSEZ",
        "colab_type": "code",
        "colab": {
          "base_uri": "https://localhost:8080/",
          "height": 34
        },
        "outputId": "1fec1d3e-071e-4629-f2b2-7d4c36083a35"
      },
      "source": [
        "print(x.shape,y.shape) "
      ],
      "execution_count": null,
      "outputs": [
        {
          "output_type": "stream",
          "text": [
            "(60000, 28, 28) (60000,)\n"
          ],
          "name": "stdout"
        }
      ]
    },
    {
      "cell_type": "code",
      "metadata": {
        "id": "WM6yHwqysonE",
        "colab_type": "code",
        "colab": {
          "base_uri": "https://localhost:8080/",
          "height": 269
        },
        "outputId": "e474ab29-2525-4a45-e099-08979fe0db83"
      },
      "source": [
        "plt.figure()\n",
        "plt.imshow(x[0])\n",
        "plt.colorbar()\n",
        "plt.grid(False)"
      ],
      "execution_count": null,
      "outputs": [
        {
          "output_type": "display_data",
          "data": {
            "image/png": "[encoded data removed]",
            "text/plain": [
              "<Figure size 432x288 with 2 Axes>"
            ]
          },
          "metadata": {
            "tags": []
          }
        }
      ]
    },
    {
      "cell_type": "code",
      "metadata": {
        "id": "kwAX_rS5vlzn",
        "colab_type": "code",
        "colab": {}
      },
      "source": [
        "def feature_scale(x,y):\n",
        "  x = tf.cast(x,dtype=tf.float32)/255.\n",
        "  y = tf.cast(y,dtype=tf.int32)\n",
        "  return x,y"
      ],
      "execution_count": null,
      "outputs": []
    },
    {
      "cell_type": "code",
      "metadata": {
        "id": "1jyHIw9NvVWc",
        "colab_type": "code",
        "colab": {
          "base_uri": "https://localhost:8080/",
          "height": 71
        },
        "outputId": "e1e34ff5-a2b8-416d-828a-9161b4b2138e"
      },
      "source": [
        "data = tf.data.Dataset.from_tensor_slices((x,y))\n",
        "data = data.map(feature_scale).shuffle(10000).batch(128)\n",
        "\n",
        "data_test = tf.data.Dataset.from_tensor_slices((x_test,y_test))\n",
        "data_test = data_test.map(feature_scale).shuffle(10000).batch(128)"
      ],
      "execution_count": null,
      "outputs": [
        {
          "output_type": "stream",
          "text": [
            "WARNING:tensorflow:Entity <function feature_scale at 0x7f010d2de7b8> could not be transformed and will be executed as-is. Please report this to the AutoGraph team. When filing the bug, set the verbosity to 10 (on Linux, `export AUTOGRAPH_VERBOSITY=10`) and attach the full output. Cause: Bad argument number for Name: 3, expecting 4\n",
            "WARNING: Entity <function feature_scale at 0x7f010d2de7b8> could not be transformed and will be executed as-is. Please report this to the AutoGraph team. When filing the bug, set the verbosity to 10 (on Linux, `export AUTOGRAPH_VERBOSITY=10`) and attach the full output. Cause: Bad argument number for Name: 3, expecting 4\n"
          ],
          "name": "stdout"
        }
      ]
    },
    {
      "cell_type": "code",
      "metadata": {
        "id": "qePRbk3kvkwA",
        "colab_type": "code",
        "colab": {}
      },
      "source": [
        "data_iter = iter(data)"
      ],
      "execution_count": null,
      "outputs": []
    },
    {
      "cell_type": "code",
      "metadata": {
        "id": "Bmpgz8Njz0lB",
        "colab_type": "code",
        "colab": {
          "base_uri": "https://localhost:8080/",
          "height": 34
        },
        "outputId": "7068d046-7a5c-47d0-af63-6748ec69ea5c"
      },
      "source": [
        "samples = next(data_iter)\n",
        "print(samples[0].shape,samples[1].shape)"
      ],
      "execution_count": null,
      "outputs": [
        {
          "output_type": "stream",
          "text": [
            "(128, 28, 28) (128,)\n"
          ],
          "name": "stdout"
        }
      ]
    },
    {
      "cell_type": "code",
      "metadata": {
        "id": "pY6G_JCdz4Ht",
        "colab_type": "code",
        "colab": {}
      },
      "source": [
        "model = Sequential([\n",
        "    layers.Dense(256,activation=tf.nn.relu),\n",
        "    layers.Dense(128,activation=tf.nn.relu),\n",
        "    layers.Dense(64,activation=tf.nn.relu),\n",
        "    layers.Dense(32,activation=tf.nn.relu),\n",
        "    layers.Dense(10,activation=tf.nn.relu)\n",
        "])"
      ],
      "execution_count": null,
      "outputs": []
    },
    {
      "cell_type": "code",
      "metadata": {
        "id": "NWn4leaD0r5w",
        "colab_type": "code",
        "colab": {}
      },
      "source": [
        "model.build(input_shape=[None,28*28])"
      ],
      "execution_count": null,
      "outputs": []
    },
    {
      "cell_type": "code",
      "metadata": {
        "id": "kwEwNizI088Z",
        "colab_type": "code",
        "colab": {
          "base_uri": "https://localhost:8080/",
          "height": 323
        },
        "outputId": "2166280d-dacb-4714-8ed7-94c64c98714f"
      },
      "source": [
        "model.summary()\n",
        "optimizer = optimizers.Adam(lr=1e-3)"
      ],
      "execution_count": null,
      "outputs": [
        {
          "output_type": "stream",
          "text": [
            "Model: \"sequential\"\n",
            "_________________________________________________________________\n",
            "Layer (type)                 Output Shape              Param #   \n",
            "=================================================================\n",
            "dense (Dense)                multiple                  200960    \n",
            "_________________________________________________________________\n",
            "dense_1 (Dense)              multiple                  32896     \n",
            "_________________________________________________________________\n",
            "dense_2 (Dense)              multiple                  8256      \n",
            "_________________________________________________________________\n",
            "dense_3 (Dense)              multiple                  2080      \n",
            "_________________________________________________________________\n",
            "dense_4 (Dense)              multiple                  330       \n",
            "=================================================================\n",
            "Total params: 244,522\n",
            "Trainable params: 244,522\n",
            "Non-trainable params: 0\n",
            "_________________________________________________________________\n"
          ],
          "name": "stdout"
        }
      ]
    },
    {
      "cell_type": "code",
      "metadata": {
        "id": "e1M-f9wM0_fl",
        "colab_type": "code",
        "colab": {
          "base_uri": "https://localhost:8080/",
          "height": 867
        },
        "outputId": "0525be89-305c-46a0-fa20-7572aaddedbe"
      },
      "source": [
        "for i in range(10):\n",
        "  for step,(x,y) in enumerate(data):\n",
        "    x = tf.reshape(x,[-1,28*28])\n",
        "    with tf.GradientTape() as tape:\n",
        "      logits = model(x)\n",
        "      y_one_hot = tf.one_hot(y,depth=10)\n",
        "      loss = tf.losses.categorical_crossentropy(y_one_hot,logits,from_logits=True)\n",
        "      loss = tf.reduce_mean(loss)\n",
        "    grads = tape.gradient(loss,model.trainable_variables)\n",
        "    optimizer.apply_gradients(zip(grads,model.trainable_variables))\n",
        "    \n",
        "    if step %100==0:\n",
        "      print(i,step,'loss:',float(loss))"
      ],
      "execution_count": null,
      "outputs": [
        {
          "output_type": "stream",
          "text": [
            "0 0 loss: 2.294835090637207\n",
            "0 100 loss: 0.9589865207672119\n",
            "0 200 loss: 0.9012205600738525\n",
            "0 300 loss: 0.7716777324676514\n",
            "0 400 loss: 0.5933138132095337\n",
            "1 0 loss: 0.7071888446807861\n",
            "1 100 loss: 0.6537793874740601\n",
            "1 200 loss: 0.6194038391113281\n",
            "1 300 loss: 0.35296180844306946\n",
            "1 400 loss: 0.2986428737640381\n",
            "2 0 loss: 0.41851896047592163\n",
            "2 100 loss: 0.4710457921028137\n",
            "2 200 loss: 0.20759794116020203\n",
            "2 300 loss: 0.3794896602630615\n",
            "2 400 loss: 0.2676364779472351\n",
            "3 0 loss: 0.24848876893520355\n",
            "3 100 loss: 0.4161760210990906\n",
            "3 200 loss: 0.2614879310131073\n",
            "3 300 loss: 0.33055412769317627\n",
            "3 400 loss: 0.29682204127311707\n",
            "4 0 loss: 0.29159894585609436\n",
            "4 100 loss: 0.31069400906562805\n",
            "4 200 loss: 0.25948452949523926\n",
            "4 300 loss: 0.3187548816204071\n",
            "4 400 loss: 0.22262153029441833\n",
            "5 0 loss: 0.250057578086853\n",
            "5 100 loss: 0.3853711485862732\n",
            "5 200 loss: 0.27191829681396484\n",
            "5 300 loss: 0.2196950912475586\n",
            "5 400 loss: 0.23855064809322357\n",
            "6 0 loss: 0.26672160625457764\n",
            "6 100 loss: 0.3384547829627991\n",
            "6 200 loss: 0.29342424869537354\n",
            "6 300 loss: 0.29945480823516846\n",
            "6 400 loss: 0.26366621255874634\n",
            "7 0 loss: 0.2817729413509369\n",
            "7 100 loss: 0.267187237739563\n",
            "7 200 loss: 0.3196846544742584\n",
            "7 300 loss: 0.3249359428882599\n",
            "7 400 loss: 0.36841440200805664\n",
            "8 0 loss: 0.28196197748184204\n",
            "8 100 loss: 0.30361679196357727\n",
            "8 200 loss: 0.33559703826904297\n",
            "8 300 loss: 0.1728816032409668\n",
            "8 400 loss: 0.3019265830516815\n",
            "9 0 loss: 0.23147916793823242\n",
            "9 100 loss: 0.198902428150177\n",
            "9 200 loss: 0.2403150498867035\n",
            "9 300 loss: 0.29528307914733887\n",
            "9 400 loss: 0.2579033076763153\n"
          ],
          "name": "stdout"
        }
      ]
    },
    {
      "cell_type": "code",
      "metadata": {
        "id": "wOD8GbqPxE8d",
        "colab_type": "code",
        "colab": {}
      },
      "source": [
        ""
      ],
      "execution_count": null,
      "outputs": []
    },
    {
      "cell_type": "code",
      "metadata": {
        "id": "6NrS0xHk4jmW",
        "colab_type": "code",
        "colab": {}
      },
      "source": [
        "total_loss = 0\n",
        "total_num=0\n",
        "for x,y in data_test:\n",
        "  \n",
        "  x = tf.reshape(x,[-1,28*28])\n",
        "  \n",
        "  gd = model(x)\n",
        "  prob = tf.nn.softmax(gd,axis=1)\n",
        "  pred = tf.argmax(prob,axis=1)\n",
        "  \n",
        "  pred = tf.cast(pred,dtype=tf.int32)\n",
        "  correct = tf.equal(pred,y)\n",
        "  \n",
        "  result = tf.reduce_sum(tf.cast(correct,dtype=tf.int32))\n",
        "  \n",
        "  total_loss += int(result)\n",
        "  total_num += x.shape[0]\n",
        "  \n",
        "acc = total_loss/total_num"
      ],
      "execution_count": null,
      "outputs": []
    },
    {
      "cell_type": "code",
      "metadata": {
        "id": "7RcYz-G9GEP9",
        "colab_type": "code",
        "colab": {
          "base_uri": "https://localhost:8080/",
          "height": 34
        },
        "outputId": "6c823796-5081-4505-a024-f60b8b3d0064"
      },
      "source": [
        "acc"
      ],
      "execution_count": null,
      "outputs": [
        {
          "output_type": "execute_result",
          "data": {
            "text/plain": [
              "0.8801"
            ]
          },
          "metadata": {
            "tags": []
          },
          "execution_count": 13
        }
      ]
    },
    {
      "cell_type": "code",
      "metadata": {
        "id": "fSBZ-ozXIm4J",
        "colab_type": "code",
        "colab": {}
      },
      "source": [
        ""
      ],
      "execution_count": null,
      "outputs": []
    },
    {
      "cell_type": "code",
      "metadata": {
        "id": "oVGRb-N9sJTZ",
        "colab_type": "code",
        "colab": {}
      },
      "source": [
        ""
      ],
      "execution_count": null,
      "outputs": []
    }
  ]
}