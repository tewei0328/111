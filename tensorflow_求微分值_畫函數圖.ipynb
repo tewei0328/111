{
  "nbformat": 4,
  "nbformat_minor": 0,
  "metadata": {
    "colab": {
      "name": "tensorflow_求微分值_畫函數圖.ipynb",
      "provenance": [],
      "authorship_tag": "ABX9TyPzNz5PN/KBexGDrFxKkH9E",
      "include_colab_link": true
    },
    "kernelspec": {
      "name": "python3",
      "display_name": "Python 3"
    }
  },
  "cells": [
    {
      "cell_type": "markdown",
      "metadata": {
        "id": "view-in-github",
        "colab_type": "text"
      },
      "source": [
        "<a href=\"https://colab.research.google.com/github/tewei0328/pbl-book/blob/master/tensorflow_%E6%B1%82%E5%BE%AE%E5%88%86%E5%80%BC_%E7%95%AB%E5%87%BD%E6%95%B8%E5%9C%96.ipynb\" target=\"_parent\"><img src=\"https://colab.research.google.com/assets/colab-badge.svg\" alt=\"Open In Colab\"/></a>"
      ]
    },
    {
      "cell_type": "code",
      "metadata": {
        "id": "KFAyAK7QAFZc",
        "colab_type": "code",
        "colab": {
          "base_uri": "https://localhost:8080/",
          "height": 265
        },
        "outputId": "a93a93ec-7738-4b33-edbf-8c383f6c2e8b"
      },
      "source": [
        "import numpy as np\n",
        "import pylab as pl\n",
        "x = np.linspace(-7,5,100)\n",
        "y = x ** 2 + 2 * x - 1\n",
        "pl.plot(x,y)\n",
        "pl.show()"
      ],
      "execution_count": null,
      "outputs": [
        {
          "output_type": "display_data",
          "data": {
            "image/png": "[encoded data removed]",
            "text/plain": [
              "<Figure size 432x288 with 1 Axes>"
            ]
          },
          "metadata": {
            "tags": [],
            "needs_background": "light"
          }
        }
      ]
    },
    {
      "cell_type": "code",
      "metadata": {
        "id": "TfQC01Uh3KvH",
        "colab_type": "code",
        "colab": {}
      },
      "source": [
        "import tensorflow as tf\n",
        "import numpy as np"
      ],
      "execution_count": null,
      "outputs": []
    },
    {
      "cell_type": "code",
      "metadata": {
        "id": "sA_jVSOS5WFU",
        "colab_type": "code",
        "colab": {}
      },
      "source": [
        "x=tf.Variable([-3.0])"
      ],
      "execution_count": null,
      "outputs": []
    },
    {
      "cell_type": "code",
      "metadata": {
        "id": "rlgwwcQ93ftu",
        "colab_type": "code",
        "colab": {
          "base_uri": "https://localhost:8080/",
          "height": 34
        },
        "outputId": "7f63f49b-77e9-4312-bdeb-4b795047f300"
      },
      "source": [
        "with tf.GradientTape() as tape:\n",
        "  loss=x*x+2*x+1\n",
        "grad =tape.gradient(loss,x)\n",
        "print(grad)  "
      ],
      "execution_count": null,
      "outputs": [
        {
          "output_type": "stream",
          "text": [
            "tf.Tensor([-4.], shape=(1,), dtype=float32)\n"
          ],
          "name": "stdout"
        }
      ]
    },
    {
      "cell_type": "code",
      "metadata": {
        "id": "evXCjvPc_CED",
        "colab_type": "code",
        "colab": {}
      },
      "source": [
        ""
      ],
      "execution_count": null,
      "outputs": []
    }
  ]
}