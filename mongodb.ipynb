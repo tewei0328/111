{
  "nbformat": 4,
  "nbformat_minor": 0,
  "metadata": {
    "colab": {
      "name": "mongodb.ipynb",
      "provenance": [],
      "authorship_tag": "ABX9TyPLQzaQvCiE6620yQ+nTnqY",
      "include_colab_link": true
    },
    "kernelspec": {
      "name": "python3",
      "display_name": "Python 3"
    }
  },
  "cells": [
    {
      "cell_type": "markdown",
      "metadata": {
        "id": "view-in-github",
        "colab_type": "text"
      },
      "source": [
        "<a href=\"https://colab.research.google.com/github/tewei0328/pbl-book/blob/master/mongodb.ipynb\" target=\"_parent\"><img src=\"https://colab.research.google.com/assets/colab-badge.svg\" alt=\"Open In Colab\"/></a>"
      ]
    },
    {
      "cell_type": "code",
      "metadata": {
        "id": "d6oPK90VBtVO",
        "colab_type": "code",
        "outputId": "9f091d42-06aa-4b4d-e850-89e053fdbc69",
        "colab": {
          "base_uri": "https://localhost:8080/",
          "height": 34
        }
      },
      "source": [
        "#雖然是python 3.6版, 但連線mongodb的connect時, 要選python3.3 and earlier才可正常連線\n",
        "!python --version"
      ],
      "execution_count": 0,
      "outputs": [
        {
          "output_type": "stream",
          "text": [
            "Python 3.6.9\n"
          ],
          "name": "stdout"
        }
      ]
    },
    {
      "cell_type": "markdown",
      "metadata": {
        "id": "VuBeX9yY4n9V",
        "colab_type": "text"
      },
      "source": [
        "https://stackoverflow.com/questions/52930341/pymongo-mongodbsrv-dnspython-must-be-installed-error"
      ]
    },
    {
      "cell_type": "code",
      "metadata": {
        "id": "zRdEy9V-xvr6",
        "colab_type": "code",
        "colab": {}
      },
      "source": [
        "import pymongo"
      ],
      "execution_count": 0,
      "outputs": []
    },
    {
      "cell_type": "code",
      "metadata": {
        "id": "3wMhvOzcx6WG",
        "colab_type": "code",
        "colab": {}
      },
      "source": [
        "from pymongo import MongoClient"
      ],
      "execution_count": 0,
      "outputs": []
    },
    {
      "cell_type": "code",
      "metadata": {
        "id": "iKzQIcbgR07V",
        "colab_type": "code",
        "colab": {}
      },
      "source": [
        "#connect時, 要用python3.3 and earlier才可連線成功\n",
        "client = pymongo.MongoClient(\"mongodb://username:PW@cluster0-shard-00-00-kcgn7.mongodb.net:27017,cluster0-shard-00-01-kcgn7.mongodb.net:27017,cluster0-shard-00-02-kcgn7.mongodb.net:27017/test?ssl=true&replicaSet=Cluster0-shard-0&authSource=admin&retryWrites=true&w=majority\")\n",
        "db = client.ctw"
      ],
      "execution_count": 0,
      "outputs": []
    },
    {
      "cell_type": "code",
      "metadata": {
        "id": "qPrB2kxldCso",
        "colab_type": "code",
        "colab": {}
      },
      "source": [
        "coll=db.booklist"
      ],
      "execution_count": 0,
      "outputs": []
    },
    {
      "cell_type": "code",
      "metadata": {
        "id": "mhteWvlxKgs6",
        "colab_type": "code",
        "outputId": "bb1be55c-6acf-4608-aa7d-35069fcb5674",
        "colab": {
          "base_uri": "https://localhost:8080/",
          "height": 67
        }
      },
      "source": [
        "list(coll.find())"
      ],
      "execution_count": 0,
      "outputs": [
        {
          "output_type": "execute_result",
          "data": {
            "text/plain": [
              "[{'_id': ObjectId('5e7363a11c9d4400004e38da'), 'name': 'A', 'rating': 1},\n",
              " {'_id': ObjectId('5e7364011c9d4400004e38db'), 'name': 'B', 'rating': 2},\n",
              " {'_id': ObjectId('5e7364321c9d4400004e38dc'), 'name': 'C', 'rating': 3}]"
            ]
          },
          "metadata": {
            "tags": []
          },
          "execution_count": 80
        }
      ]
    },
    {
      "cell_type": "code",
      "metadata": {
        "id": "njlks9XNHAYx",
        "colab_type": "code",
        "colab": {}
      },
      "source": [
        ""
      ],
      "execution_count": 0,
      "outputs": []
    },
    {
      "cell_type": "code",
      "metadata": {
        "id": "BDQ2BynO90OP",
        "colab_type": "code",
        "colab": {}
      },
      "source": [
        "results=coll.find({'name':'A'})"
      ],
      "execution_count": 0,
      "outputs": []
    },
    {
      "cell_type": "code",
      "metadata": {
        "id": "hVw0dklr-vnU",
        "colab_type": "code",
        "outputId": "229b31db-1fd5-4bef-a027-c11c9fb79d5c",
        "colab": {
          "base_uri": "https://localhost:8080/",
          "height": 34
        }
      },
      "source": [
        "print(results)"
      ],
      "execution_count": 0,
      "outputs": [
        {
          "output_type": "stream",
          "text": [
            "<pymongo.cursor.Cursor object at 0x7f5b3e45cb38>\n"
          ],
          "name": "stdout"
        }
      ]
    },
    {
      "cell_type": "code",
      "metadata": {
        "id": "6oPyoiR_-vqU",
        "colab_type": "code",
        "outputId": "2c4649aa-1dc3-46cb-b204-b359bd0689fa",
        "colab": {
          "base_uri": "https://localhost:8080/",
          "height": 34
        }
      },
      "source": [
        "for result in results:\n",
        "  print(result)"
      ],
      "execution_count": 0,
      "outputs": [
        {
          "output_type": "stream",
          "text": [
            "{'_id': ObjectId('5e7363a11c9d4400004e38da'), 'name': 'A', 'rating': 1}\n"
          ],
          "name": "stdout"
        }
      ]
    },
    {
      "cell_type": "code",
      "metadata": {
        "id": "Zd3yHNgrCP_N",
        "colab_type": "code",
        "colab": {}
      },
      "source": [
        ""
      ],
      "execution_count": 0,
      "outputs": []
    },
    {
      "cell_type": "code",
      "metadata": {
        "id": "tuOs76YHAG9P",
        "colab_type": "code",
        "colab": {}
      },
      "source": [
        "results = coll.find({'rating': 2})"
      ],
      "execution_count": 0,
      "outputs": []
    },
    {
      "cell_type": "code",
      "metadata": {
        "id": "X5Q03dPl5P3M",
        "colab_type": "code",
        "outputId": "6cf27eac-107f-42c5-f498-e574905a1cfc",
        "colab": {
          "base_uri": "https://localhost:8080/",
          "height": 34
        }
      },
      "source": [
        "print(results)"
      ],
      "execution_count": 0,
      "outputs": [
        {
          "output_type": "stream",
          "text": [
            "<pymongo.cursor.Cursor object at 0x7f5b3e45cef0>\n"
          ],
          "name": "stdout"
        }
      ]
    },
    {
      "cell_type": "code",
      "metadata": {
        "id": "PWFBeG-552YB",
        "colab_type": "code",
        "outputId": "1b705d3a-db52-4d6e-e4c0-a6c1276836e6",
        "colab": {
          "base_uri": "https://localhost:8080/",
          "height": 34
        }
      },
      "source": [
        "for result in results:\n",
        "  print(result)"
      ],
      "execution_count": 0,
      "outputs": [
        {
          "output_type": "stream",
          "text": [
            "{'_id': ObjectId('5e7364011c9d4400004e38db'), 'name': 'B', 'rating': 2}\n"
          ],
          "name": "stdout"
        }
      ]
    }
  ]
}