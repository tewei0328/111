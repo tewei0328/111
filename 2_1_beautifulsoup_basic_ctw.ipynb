{
  "nbformat": 4,
  "nbformat_minor": 0,
  "metadata": {
    "colab": {
      "name": "2-1-beautifulsoup-basic-ctw.ipynb",
      "version": "0.3.2",
      "provenance": [],
      "include_colab_link": true
    },
    "kernelspec": {
      "name": "python3",
      "display_name": "Python 3"
    }
  },
  "cells": [
    {
      "cell_type": "markdown",
      "metadata": {
        "id": "view-in-github",
        "colab_type": "text"
      },
      "source": [
        "<a href=\"https://colab.research.google.com/github/tewei0328/pbl-book/blob/master/2_1_beautifulsoup_basic_ctw.ipynb\" target=\"_parent\"><img src=\"https://colab.research.google.com/assets/colab-badge.svg\" alt=\"Open In Colab\"/></a>"
      ]
    },
    {
      "cell_type": "markdown",
      "metadata": {
        "id": "bZlI9NOL_1gF",
        "colab_type": "text"
      },
      "source": [
        "\n",
        "# 如何使用BeautifulSoup套件"
      ]
    },
    {
      "cell_type": "markdown",
      "metadata": {
        "id": "RFEPoDllRRob",
        "colab_type": "text"
      },
      "source": [
        "# 1. 先利用urllib套件下載一個網頁\n",
        "# 2. 接著就可將beautifulsoup用於此網頁的HTML"
      ]
    },
    {
      "cell_type": "code",
      "metadata": {
        "id": "c35n8-Fq_mHo",
        "colab_type": "code",
        "outputId": "c1869a1e-eb53-4a70-9626-3aa5e969e260",
        "colab": {
          "base_uri": "https://localhost:8080/",
          "height": 351
        }
      },
      "source": [
        "from bs4 import BeautifulSoup\n",
        "from urllib.request import urlopen\n",
        "\n",
        "html = urlopen(\"http://www1.chihlee.edu.tw/teachers/ctw/simple_html.htm\").read().decode('utf-8')\n",
        "print(html)"
      ],
      "execution_count": 5,
      "outputs": [
        {
          "output_type": "stream",
          "text": [
            "﻿<!DOCTYPE html>\r\n",
            "<html lang=\"cn\">\r\n",
            "<head><meta http-equiv=\"Content-Type\" content=\"text/html; charset=utf-8\">\r\n",
            "\t<title>秒速學習Python程式設計</title>\r\n",
            "</head>\r\n",
            "<body>\r\n",
            "<h1>秒速學習Python程式設計</h1>\r\n",
            "\r\n",
            "<ul>\r\n",
            "\t<li>\r\n",
            "\t<h2>程式設計不需從頭開始，每個細節慢慢學。</h2>\r\n",
            "\t</li>\r\n",
            "\t<li>\r\n",
            "\t<h2>因為如此，可能還沒搞懂程式和自身問題的關係，就先耗光意志力而放棄學習程式了。</h2>\r\n",
            "\t</li>\r\n",
            "</ul>\r\n",
            "</body>\r\n",
            "</html>\r\n",
            "\n"
          ],
          "name": "stdout"
        }
      ]
    },
    {
      "cell_type": "markdown",
      "metadata": {
        "id": "263E2dwuP3NU",
        "colab_type": "text"
      },
      "source": [
        "\n",
        "# 3. 接著我們很容易就可取出該網頁各別HTML標籤之內容"
      ]
    },
    {
      "cell_type": "code",
      "metadata": {
        "id": "7WE-M_qXPh_g",
        "colab_type": "code",
        "outputId": "ef630e51-b51f-4741-b745-c5088a237596",
        "colab": {
          "base_uri": "https://localhost:8080/",
          "height": 107
        }
      },
      "source": [
        "soup = BeautifulSoup(html)\n",
        "print(soup.h1)\n",
        "print('\\n', soup.p)"
      ],
      "execution_count": 0,
      "outputs": [
        {
          "output_type": "stream",
          "text": [
            "<h1 class=\"firstHeading\" id=\"firstHeading\" lang=\"zh\">万维网联盟</h1>\n",
            "\n",
            " <p><b>万维网联盟</b>（<span class=\"LangWithName\">英语：<span lang=\"en\"><b>W</b>orld <b>W</b>ide <b>W</b>eb <b>C</b>onsortium，縮寫<b>W3C</b></span></span>），又称<b>W3C理事会</b>，是<a class=\"mw-redirect\" href=\"/wiki/%E5%85%A8%E7%90%83%E8%B3%87%E8%A8%8A%E7%B6%B2\" title=\"全球資訊網\">全球資訊網</a>的主要國際<a href=\"/wiki/%E6%A8%99%E6%BA%96%E7%B5%84%E7%B9%94\" title=\"標準組織\">標準組織</a><sup class=\"reference\" id=\"cite_ref-consortium_2-0\"><a href=\"#cite_note-consortium-2\">[2]</a></sup>。為半自治非政府組織（quasi-autonomous non-governmental organisation）。\n",
            "</p>\n"
          ],
          "name": "stdout"
        }
      ]
    },
    {
      "cell_type": "code",
      "metadata": {
        "id": "am9pQ-kXQEy8",
        "colab_type": "code",
        "outputId": "d28c8a2a-9a3f-4dca-f1d5-bff4e609307d",
        "colab": {
          "base_uri": "https://localhost:8080/",
          "height": 52
        }
      },
      "source": [
        "print('\\n', soup.title)"
      ],
      "execution_count": 0,
      "outputs": [
        {
          "output_type": "stream",
          "text": [
            "\n",
            " <title>万维网联盟 - 维基百科，自由的百科全书</title>\n"
          ],
          "name": "stdout"
        }
      ]
    },
    {
      "cell_type": "code",
      "metadata": {
        "id": "v6Zytej_QYYq",
        "colab_type": "code",
        "colab": {}
      },
      "source": [
        ""
      ],
      "execution_count": 0,
      "outputs": []
    }
  ]
}