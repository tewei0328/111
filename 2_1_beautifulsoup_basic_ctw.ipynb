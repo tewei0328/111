{
  "nbformat": 4,
  "nbformat_minor": 0,
  "metadata": {
    "colab": {
      "name": "2-1-beautifulsoup-basic-ctw.ipynb",
      "version": "0.3.2",
      "provenance": [],
      "include_colab_link": true
    },
    "kernelspec": {
      "name": "python3",
      "display_name": "Python 3"
    }
  },
  "cells": [
    {
      "cell_type": "markdown",
      "metadata": {
        "id": "view-in-github",
        "colab_type": "text"
      },
      "source": [
        "<a href=\"https://colab.research.google.com/github/tewei0328/pbl-book/blob/master/2_1_beautifulsoup_basic_ctw.ipynb\" target=\"_parent\"><img src=\"https://colab.research.google.com/assets/colab-badge.svg\" alt=\"Open In Colab\"/></a>"
      ]
    },
    {
      "cell_type": "markdown",
      "metadata": {
        "id": "bZlI9NOL_1gF",
        "colab_type": "text"
      },
      "source": [
        "\n",
        "# 如何使用BeautifulSoup套件"
      ]
    },
    {
      "cell_type": "markdown",
      "metadata": {
        "id": "RFEPoDllRRob",
        "colab_type": "text"
      },
      "source": [
        "# 1. 先利用urllib套件下載一個網頁\n",
        "# 2. 接著就可將beautifulsoup用於此網頁的HTML"
      ]
    },
    {
      "cell_type": "code",
      "metadata": {
        "id": "c35n8-Fq_mHo",
        "colab_type": "code",
        "outputId": "c1869a1e-eb53-4a70-9626-3aa5e969e260",
        "colab": {
          "base_uri": "https://localhost:8080/",
          "height": 351
        }
      },
      "source": [
        "from bs4 import BeautifulSoup\n",
        "from urllib.request import urlopen\n",
        "\n",
        "html = urlopen(\"http://www1.chihlee.edu.tw/teachers/ctw/simple_html.htm\").read().decode('utf-8')\n",
        "print(html)"
      ],
      "execution_count": 5,
      "outputs": [
        {
          "output_type": "stream",
          "text": [
            "﻿<!DOCTYPE html>\r\n",
            "<html lang=\"cn\">\r\n",
            "<head><meta http-equiv=\"Content-Type\" content=\"text/html; charset=utf-8\">\r\n",
            "\t<title>秒速學習Python程式設計</title>\r\n",
            "</head>\r\n",
            "<body>\r\n",
            "<h1>秒速學習Python程式設計</h1>\r\n",
            "\r\n",
            "<ul>\r\n",
            "\t<li>\r\n",
            "\t<h2>程式設計不需從頭開始，每個細節慢慢學。</h2>\r\n",
            "\t</li>\r\n",
            "\t<li>\r\n",
            "\t<h2>因為如此，可能還沒搞懂程式和自身問題的關係，就先耗光意志力而放棄學習程式了。</h2>\r\n",
            "\t</li>\r\n",
            "</ul>\r\n",
            "</body>\r\n",
            "</html>\r\n",
            "\n"
          ],
          "name": "stdout"
        }
      ]
    },
    {
      "cell_type": "markdown",
      "metadata": {
        "id": "263E2dwuP3NU",
        "colab_type": "text"
      },
      "source": [
        "\n",
        "# 3. 接著我們很容易就可取出該網頁各別HTML標籤之內容"
      ]
    },
    {
      "cell_type": "code",
      "metadata": {
        "id": "7WE-M_qXPh_g",
        "colab_type": "code",
        "outputId": "ff586902-9e26-4471-ef18-fec63c68d58e",
        "colab": {
          "base_uri": "https://localhost:8080/",
          "height": 70
        }
      },
      "source": [
        "soup = BeautifulSoup(html)\n",
        "print(soup.h1)\n",
        "print('\\n', soup.h2)"
      ],
      "execution_count": 8,
      "outputs": [
        {
          "output_type": "stream",
          "text": [
            "<h1>秒速學習Python程式設計</h1>\n",
            "\n",
            " <h2>程式設計不需從頭開始，每個細節慢慢學。</h2>\n"
          ],
          "name": "stdout"
        }
      ]
    },
    {
      "cell_type": "code",
      "metadata": {
        "id": "am9pQ-kXQEy8",
        "colab_type": "code",
        "outputId": "d6eded11-1af6-4aa8-cb2b-de6e75fcea14",
        "colab": {
          "base_uri": "https://localhost:8080/",
          "height": 52
        }
      },
      "source": [
        "print('\\n', soup.title)"
      ],
      "execution_count": 7,
      "outputs": [
        {
          "output_type": "stream",
          "text": [
            "\n",
            " <title>秒速學習Python程式設計</title>\n"
          ],
          "name": "stdout"
        }
      ]
    },
    {
      "cell_type": "code",
      "metadata": {
        "id": "v6Zytej_QYYq",
        "colab_type": "code",
        "colab": {}
      },
      "source": [
        ""
      ],
      "execution_count": 0,
      "outputs": []
    }
  ]
}