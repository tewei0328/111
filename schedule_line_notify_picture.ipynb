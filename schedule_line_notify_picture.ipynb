{
  "nbformat": 4,
  "nbformat_minor": 0,
  "metadata": {
    "colab": {
      "name": "schedule-line-notify-picture.ipynb",
      "provenance": [],
      "toc_visible": true,
      "authorship_tag": "ABX9TyPbAsycuIW7r1oWNUOmMFPP",
      "include_colab_link": true
    },
    "kernelspec": {
      "name": "python3",
      "display_name": "Python 3"
    }
  },
  "cells": [
    {
      "cell_type": "markdown",
      "metadata": {
        "id": "view-in-github",
        "colab_type": "text"
      },
      "source": [
        "<a href=\"https://colab.research.google.com/github/tewei0328/pbl-book/blob/master/schedule_line_notify_picture.ipynb\" target=\"_parent\"><img src=\"https://colab.research.google.com/assets/colab-badge.svg\" alt=\"Open In Colab\"/></a>"
      ]
    },
    {
      "cell_type": "code",
      "metadata": {
        "id": "-uqcsILrOBBE",
        "colab_type": "code",
        "outputId": "3d7c764e-7264-49e6-a8ed-0b86ab8a920f",
        "colab": {
          "base_uri": "https://localhost:8080/",
          "height": 34
        }
      },
      "source": [
        "import requests, os\n",
        " \n",
        "\"\"\"\n",
        "發送 Line Notify 訊息\n",
        "\"\"\"\n",
        "def lineNotify(token, msg, picURI):\n",
        "    url = \"https://notify-api.line.me/api/notify\"\n",
        "    headers = {\n",
        "        \"Authorization\": \"Bearer \" + token\n",
        "    }\n",
        "   \n",
        "    payload = {'message': msg}\n",
        "    files = {'imageFile': open(picURI, 'rb')}\n",
        "    r = requests.post(url, headers = headers, params = payload, files = files)\n",
        "    return r.status_code\n",
        " \n",
        " \n",
        "#token = os.environ[\"LINE_TEST_TOKEN\"]\n",
        "token=\"cApOlQbuQfIJBeigslDRXnulvj0lqHyCwk5Az4DxucU\"\n",
        "msg = \"Hello Python\"\n",
        "picURI = \"1.jpg\"\n",
        " \n",
        " \n",
        "lineNotify(token, msg, picURI)"
      ],
      "execution_count": 4,
      "outputs": [
        {
          "output_type": "execute_result",
          "data": {
            "text/plain": [
              "200"
            ]
          },
          "metadata": {
            "tags": []
          },
          "execution_count": 4
        }
      ]
    },
    {
      "cell_type": "code",
      "metadata": {
        "id": "fueSarQts1as",
        "colab_type": "code",
        "colab": {
          "base_uri": "https://localhost:8080/",
          "height": 104
        },
        "outputId": "671d0115-8e7c-44da-cdb4-2bbf91cd9aea"
      },
      "source": [
        "!pip install schedule"
      ],
      "execution_count": 5,
      "outputs": [
        {
          "output_type": "stream",
          "text": [
            "Collecting schedule\n",
            "  Downloading https://files.pythonhosted.org/packages/57/22/3a709462eb02412bd1145f6e53604f36bba191e3e4e397bea4a718fec38c/schedule-0.6.0-py2.py3-none-any.whl\n",
            "Installing collected packages: schedule\n",
            "Successfully installed schedule-0.6.0\n"
          ],
          "name": "stdout"
        }
      ]
    },
    {
      "cell_type": "code",
      "metadata": {
        "id": "W9FTbq2dtFry",
        "colab_type": "code",
        "colab": {
          "base_uri": "https://localhost:8080/",
          "height": 195
        },
        "outputId": "6d30d3c1-917c-44b7-f23d-7c4a521da4ee"
      },
      "source": [
        "import schedule\n",
        "import time\n",
        "\n",
        "def job():\n",
        "    lineNotify(token, msg, picURI)\n",
        "\n",
        "schedule.every(10).seconds.do(job) #每10秒執行一次\n",
        "#schedule.every().hour.do(job) #每小時執行一次\n",
        "#schedule.every().day.at(\"9:30\").do(job) #每天9點30執行一次\n",
        "#schedule.every().monday.do(job) #每週一執行一次\n",
        "#schedule.every().wednesday.at(\"14:45\").do(job) #每週三14點45執行一次\n",
        "\n",
        "# 無窮迴圈\n",
        "while True: \n",
        "    schedule.run_pending()\n",
        "    time.sleep(1)"
      ],
      "execution_count": 6,
      "outputs": [
        {
          "output_type": "error",
          "ename": "KeyboardInterrupt",
          "evalue": "ignored",
          "traceback": [
            "\u001b[0;31m---------------------------------------------------------------------------\u001b[0m",
            "\u001b[0;31mKeyboardInterrupt\u001b[0m                         Traceback (most recent call last)",
            "\u001b[0;32m<ipython-input-6-32274fe408de>\u001b[0m in \u001b[0;36m<module>\u001b[0;34m()\u001b[0m\n\u001b[1;32m     14\u001b[0m \u001b[0;32mwhile\u001b[0m \u001b[0;32mTrue\u001b[0m\u001b[0;34m:\u001b[0m\u001b[0;34m\u001b[0m\u001b[0;34m\u001b[0m\u001b[0m\n\u001b[1;32m     15\u001b[0m     \u001b[0mschedule\u001b[0m\u001b[0;34m.\u001b[0m\u001b[0mrun_pending\u001b[0m\u001b[0;34m(\u001b[0m\u001b[0;34m)\u001b[0m\u001b[0;34m\u001b[0m\u001b[0;34m\u001b[0m\u001b[0m\n\u001b[0;32m---> 16\u001b[0;31m     \u001b[0mtime\u001b[0m\u001b[0;34m.\u001b[0m\u001b[0msleep\u001b[0m\u001b[0;34m(\u001b[0m\u001b[0;36m1\u001b[0m\u001b[0;34m)\u001b[0m\u001b[0;34m\u001b[0m\u001b[0;34m\u001b[0m\u001b[0m\n\u001b[0m",
            "\u001b[0;31mKeyboardInterrupt\u001b[0m: "
          ]
        }
      ]
    },
    {
      "cell_type": "code",
      "metadata": {
        "id": "1MKmNjjJs9X3",
        "colab_type": "code",
        "colab": {}
      },
      "source": [
        "import schedule\n",
        "import time\n",
        "\n",
        "def job():\n",
        "    stock='2330'\n",
        "    # 要抓取的網址\n",
        "    url = 'https://tw.stock.yahoo.com/q/q?s=' + stock \n",
        "    #請求網站\n",
        "    list_req = requests.get(url)\n",
        "    #將整個網站的程式碼爬下來\n",
        "    soup = BeautifulSoup(list_req.content, \"html.parser\")\n",
        "    #找到b這個標籤\n",
        "    getstock= soup.find('b').text #只抓到第一個<b>\n",
        "    print(getstock)\n",
        "\n",
        "    getstock= soup.findAll('b')[1].text #抓到收盤價格\n",
        "    print(getstock)\n",
        "\n",
        "schedule.every(10).seconds.do(job) #每10秒執行一次\n",
        "#schedule.every().hour.do(job) #每小時執行一次\n",
        "#schedule.every().day.at(\"9:30\").do(job) #每天9點30執行一次\n",
        "#schedule.every().monday.do(job) #每週一執行一次\n",
        "#schedule.every().wednesday.at(\"14:45\").do(job) #每週三14點45執行一次\n",
        "\n",
        "# 無窮迴圈\n",
        "while True: \n",
        "    schedule.run_pending()\n",
        "    time.sleep(1)"
      ],
      "execution_count": 0,
      "outputs": []
    }
  ]
}