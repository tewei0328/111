{
  "nbformat": 4,
  "nbformat_minor": 0,
  "metadata": {
    "colab": {
      "name": "爬蟲-2330.ipynb",
      "provenance": [],
      "authorship_tag": "ABX9TyPzGNYeGBB8rD6GaCl9GB7Y",
      "include_colab_link": true
    },
    "kernelspec": {
      "name": "python3",
      "display_name": "Python 3"
    }
  },
  "cells": [
    {
      "cell_type": "markdown",
      "metadata": {
        "id": "view-in-github",
        "colab_type": "text"
      },
      "source": [
        "<a href=\"https://colab.research.google.com/github/tewei0328/pbl-book/blob/master/%E7%88%AC%E8%9F%B2_2330.ipynb\" target=\"_parent\"><img src=\"https://colab.research.google.com/assets/colab-badge.svg\" alt=\"Open In Colab\"/></a>"
      ]
    },
    {
      "cell_type": "code",
      "metadata": {
        "id": "R2NTLA28-qB6",
        "colab_type": "code",
        "colab": {
          "base_uri": "https://localhost:8080/",
          "height": 541
        },
        "outputId": "e16cbc0e-486b-4f3a-e23c-55e9c2ae91bf"
      },
      "source": [
        "import requests\n",
        "from bs4 import BeautifulSoup\n",
        "\n",
        "stock='2330'\n",
        " # 要抓取的網址\n",
        "url = 'https://tw.stock.yahoo.com/q/q?s=' + stock \n",
        "#請求網站\n",
        "list_req = requests.get(url)\n",
        "#將整個網站的程式碼爬下來\n",
        "soup = BeautifulSoup(list_req.content, \"html.parser\")\n",
        "#找到table這個標籤\n",
        "soup.find('table') #只找到一個\n",
        "soup.find_all('table') #找到網頁內所有的table\n",
        "soup.find_all('table', {'border':'2'}) #特別指定'border':'2'"
      ],
      "execution_count": 2,
      "outputs": [
        {
          "output_type": "execute_result",
          "data": {
            "text/plain": [
              "[<table border=\"2\" width=\"750\">\n",
              " <tr bgcolor=\"#fff0c1\">\n",
              " <th align=\"center\">股票<br/>代號</th>\n",
              " <th align=\"center\" width=\"55\">時間</th>\n",
              " <th align=\"center\" width=\"55\">成交</th>\n",
              " <th align=\"center\" width=\"55\">買進</th>\n",
              " <th align=\"center\" width=\"55\">賣出</th>\n",
              " <th align=\"center\" width=\"55\">漲跌</th>\n",
              " <th align=\"center\" width=\"55\">張數</th>\n",
              " <th align=\"center\" width=\"55\">昨收</th>\n",
              " <th align=\"center\" width=\"55\">開盤</th>\n",
              " <th align=\"center\" width=\"55\">最高</th>\n",
              " <th align=\"center\" width=\"55\">最低</th>\n",
              " <th align=\"center\">個股資料</th>\n",
              " </tr>\n",
              " <tr>\n",
              " <td align=\"center\" width=\"105\"><a href=\"/q/bc?s=2330\">2330台積電</a><br/><a href=\"/pf/pfsel?stocklist=2330;\"><font size=\"-1\">加到投資組合</font><br/></a></td>\n",
              " <td align=\"center\" bgcolor=\"#FFFfff\" nowrap=\"\">14:30</td>\n",
              " <td align=\"center\" bgcolor=\"#FFFfff\" nowrap=\"\"><b>316.0</b></td>\n",
              " <td align=\"center\" bgcolor=\"#FFFfff\" nowrap=\"\">316.0</td>\n",
              " <td align=\"center\" bgcolor=\"#FFFfff\" nowrap=\"\">316.5</td>\n",
              " <td align=\"center\" bgcolor=\"#FFFfff\" nowrap=\"\"><font color=\"#009900\">▽2.5\n",
              "                 <td align=\"center\" bgcolor=\"#FFFfff\" nowrap=\"\">61,095</td>\n",
              " <td align=\"center\" bgcolor=\"#FFFfff\" nowrap=\"\">318.5</td>\n",
              " <td align=\"center\" bgcolor=\"#FFFfff\" nowrap=\"\">319.0</td>\n",
              " <td align=\"center\" bgcolor=\"#FFFfff\" nowrap=\"\">320.0</td>\n",
              " <td align=\"center\" bgcolor=\"#FFFfff\" nowrap=\"\">315.0</td>\n",
              " <td align=\"center\" class=\"tt\" width=\"137\">\n",
              " <a href=\"/q/ts?s=2330\">成交明細</a><br/><a href=\"/q/ta?s=2330\">技術</a>　<a href=\"/q/h?s=2330\">新聞</a><a href=\"/d/s/company_2330.html\"><br/>基本</a>　<a href=\"/d/s/credit_2330.html\">籌碼</a><a href=\"https://tw.rd.yahoo.com/referurl/stock/other/SIG=125v47s73/**https://tw.screener.finance.yahoo.net/screener/check.html?symid=2330\" style=\"color:red\" target=\"_blank\"><br/>個股健診</a></td></font></td> </tr>\n",
              " </table>]"
            ]
          },
          "metadata": {
            "tags": []
          },
          "execution_count": 2
        }
      ]
    },
    {
      "cell_type": "code",
      "metadata": {
        "id": "8L7Bh0NI_KV1",
        "colab_type": "code",
        "colab": {}
      },
      "source": [
        "stock='2330'\n",
        " # 要抓取的網址\n",
        "url = 'https://tw.stock.yahoo.com/q/q?s=' + stock \n",
        "#請求網站\n",
        "list_req = requests.get(url)\n",
        "#將整個網站的程式碼爬下來\n",
        "soup = BeautifulSoup(list_req.content, \"html.parser\")\n",
        "#找到table這個標籤\n",
        "soup.find('table') #只找到一個\n",
        "soup.find_all('table') #找到網頁內所有的table\n",
        "soup.find_all('table', {'border':'2'}) #特別指定'border':'2'"
      ],
      "execution_count": 0,
      "outputs": []
    },
    {
      "cell_type": "code",
      "metadata": {
        "id": "BOwv0sNfAKq4",
        "colab_type": "code",
        "colab": {
          "base_uri": "https://localhost:8080/",
          "height": 50
        },
        "outputId": "59e2a7ed-7374-4545-944e-a126c0bde27e"
      },
      "source": [
        "import requests\n",
        "from bs4 import BeautifulSoup\n",
        "\n",
        "stock='2330'\n",
        " # 要抓取的網址\n",
        "url = 'https://tw.stock.yahoo.com/q/q?s=' + stock \n",
        "#請求網站\n",
        "list_req = requests.get(url)\n",
        "#將整個網站的程式碼爬下來\n",
        "soup = BeautifulSoup(list_req.content, \"html.parser\")\n",
        "#找到b這個標籤\n",
        "getstock= soup.find('b').text #只抓到第一個<b>\n",
        "print(getstock)\n",
        "\n",
        "getstock= soup.findAll('b')[1].text #抓到收盤價格\n",
        "print(getstock)"
      ],
      "execution_count": 3,
      "outputs": [
        {
          "output_type": "stream",
          "text": [
            "信箱\n",
            "316.0\n"
          ],
          "name": "stdout"
        }
      ]
    }
  ]
}