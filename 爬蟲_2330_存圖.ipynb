{
  "nbformat": 4,
  "nbformat_minor": 0,
  "metadata": {
    "colab": {
      "name": "爬蟲_2330_存圖.ipynb",
      "provenance": [],
      "authorship_tag": "ABX9TyM7dxiHUNC2Bx2XLrRRZ0WF",
      "include_colab_link": true
    },
    "kernelspec": {
      "name": "python3",
      "display_name": "Python 3"
    }
  },
  "cells": [
    {
      "cell_type": "markdown",
      "metadata": {
        "id": "view-in-github",
        "colab_type": "text"
      },
      "source": [
        "<a href=\"https://colab.research.google.com/github/tewei0328/pbl-book/blob/master/%E7%88%AC%E8%9F%B2_2330_%E5%AD%98%E5%9C%96.ipynb\" target=\"_parent\"><img src=\"https://colab.research.google.com/assets/colab-badge.svg\" alt=\"Open In Colab\"/></a>"
      ]
    },
    {
      "cell_type": "code",
      "metadata": {
        "id": "SAfrOFXeGf39",
        "colab_type": "code",
        "outputId": "086fd445-a8b5-4c24-f60f-6499dafdcf89",
        "colab": {
          "base_uri": "https://localhost:8080/",
          "height": 238
        }
      },
      "source": [
        "!pip install mpl_finance"
      ],
      "execution_count": 0,
      "outputs": [
        {
          "output_type": "stream",
          "text": [
            "Collecting mpl_finance\n",
            "  Downloading https://files.pythonhosted.org/packages/9d/de/8169ea4403d6cb8322e74cc48b6834d1dfbed81931d17f1f26b2140160d8/mpl_finance-0.10.1-py3-none-any.whl\n",
            "Requirement already satisfied: matplotlib in /usr/local/lib/python3.6/dist-packages (from mpl_finance) (3.2.0)\n",
            "Requirement already satisfied: python-dateutil>=2.1 in /usr/local/lib/python3.6/dist-packages (from matplotlib->mpl_finance) (2.8.1)\n",
            "Requirement already satisfied: kiwisolver>=1.0.1 in /usr/local/lib/python3.6/dist-packages (from matplotlib->mpl_finance) (1.1.0)\n",
            "Requirement already satisfied: pyparsing!=2.0.4,!=2.1.2,!=2.1.6,>=2.0.1 in /usr/local/lib/python3.6/dist-packages (from matplotlib->mpl_finance) (2.4.6)\n",
            "Requirement already satisfied: numpy>=1.11 in /usr/local/lib/python3.6/dist-packages (from matplotlib->mpl_finance) (1.18.2)\n",
            "Requirement already satisfied: cycler>=0.10 in /usr/local/lib/python3.6/dist-packages (from matplotlib->mpl_finance) (0.10.0)\n",
            "Requirement already satisfied: six>=1.5 in /usr/local/lib/python3.6/dist-packages (from python-dateutil>=2.1->matplotlib->mpl_finance) (1.12.0)\n",
            "Requirement already satisfied: setuptools in /usr/local/lib/python3.6/dist-packages (from kiwisolver>=1.0.1->matplotlib->mpl_finance) (46.0.0)\n",
            "Installing collected packages: mpl-finance\n",
            "Successfully installed mpl-finance-0.10.1\n"
          ],
          "name": "stdout"
        }
      ]
    },
    {
      "cell_type": "markdown",
      "metadata": {
        "id": "ZpTp9_9yIj69",
        "colab_type": "text"
      },
      "source": [
        "https://www.itread01.com/content/1546581274.html"
      ]
    },
    {
      "cell_type": "code",
      "metadata": {
        "id": "Tnw2G2I0GggH",
        "colab_type": "code",
        "outputId": "79eef63c-a517-4a67-ef61-aead25c44923",
        "colab": {
          "base_uri": "https://localhost:8080/",
          "height": 34
        }
      },
      "source": [
        "# -*- coding: utf-8 -*-\n",
        "\"\"\"\n",
        "Created on Fri Jan 18 14:35:26 2019\n",
        "@author: aaaaa\n",
        "\"\"\"\n",
        "\n",
        "import pandas as pd\n",
        "pd.core.common.is_list_like = pd.api.types.is_list_like\n",
        "from pandas_datareader import data\n",
        "import fix_yahoo_finance as yf # yahoo專用的拿來拉股票資訊\n",
        "import datetime\n",
        "import matplotlib.pyplot as plt # 繪圖專用\n",
        "import mpl_finance as mpf # 專門用來畫蠟燭圖的\n",
        "\n",
        "userstock='2330'\n",
        "start = datetime.datetime.now() - datetime.timedelta(days=365) #先設定要爬的時間\n",
        "end = datetime.date.today()\n",
        "\n",
        "# 與yahoo請求\n",
        "pd.core.common.is_list_like = pd.api.types.is_list_like\n",
        "yf.pdr_override()\n",
        "\n",
        "# 取得股票資料\n",
        "stock = data.get_data_yahoo(userstock+'.TW', start, end)\n",
        "\n",
        "# 股票K線圖\n",
        "fig = plt.figure(figsize=(24, 8))\n",
        "ax = fig.add_subplot(1, 1, 1)\n",
        "ax.set_xticks(range(0, len(stock.index), 5))\n",
        "ax.set_xticklabels(stock.index[::5])\n",
        "plt.xticks(fontsize=10,rotation=90)\n",
        "mpf.candlestick2_ochl(ax, stock['Open'], stock['Close'], stock['High'], stock['Low'],\n",
        "                     width=0.5, colorup='r', colordown='green',\n",
        "                     alpha=0.6)\n",
        "plt.title(\"Candlestick_chart\") # 標題設定\n",
        "plt.grid()\n",
        "plt.savefig('Candlestick_chart.png') #存檔\n",
        "plt. close() # 殺掉記憶體中的圖片"
      ],
      "execution_count": 0,
      "outputs": [
        {
          "output_type": "stream",
          "text": [
            "[*********************100%***********************]  1 of 1 downloaded\n"
          ],
          "name": "stdout"
        }
      ]
    },
    {
      "cell_type": "code",
      "metadata": {
        "id": "_arEp1jdGgkn",
        "colab_type": "code",
        "colab": {}
      },
      "source": [
        ""
      ],
      "execution_count": 0,
      "outputs": []
    },
    {
      "cell_type": "code",
      "metadata": {
        "id": "fTQNTmDCGgnN",
        "colab_type": "code",
        "colab": {}
      },
      "source": [
        ""
      ],
      "execution_count": 0,
      "outputs": []
    },
    {
      "cell_type": "code",
      "metadata": {
        "id": "Aho35Ed8GgpQ",
        "colab_type": "code",
        "colab": {}
      },
      "source": [
        ""
      ],
      "execution_count": 0,
      "outputs": []
    },
    {
      "cell_type": "code",
      "metadata": {
        "id": "TdFW5XsRGgrc",
        "colab_type": "code",
        "colab": {}
      },
      "source": [
        ""
      ],
      "execution_count": 0,
      "outputs": []
    },
    {
      "cell_type": "code",
      "metadata": {
        "id": "XZFACvL5GguV",
        "colab_type": "code",
        "colab": {}
      },
      "source": [
        ""
      ],
      "execution_count": 0,
      "outputs": []
    },
    {
      "cell_type": "code",
      "metadata": {
        "id": "yA0JPThCGgjM",
        "colab_type": "code",
        "colab": {}
      },
      "source": [
        ""
      ],
      "execution_count": 0,
      "outputs": []
    }
  ]
}